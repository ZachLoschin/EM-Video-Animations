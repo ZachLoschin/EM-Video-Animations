{
 "cells": [
  {
   "cell_type": "code",
   "execution_count": 1,
   "metadata": {},
   "outputs": [
    {
     "name": "stdout",
     "output_type": "stream",
     "text": [
      "Name: manim\n",
      "Version: 0.19.0\n",
      "Summary: Animation engine for explanatory math videos.\n",
      "Home-page: \n",
      "Author: The Manim Community Developers\n",
      "Author-email: contact@manim.community\n",
      "License: MIT\n",
      "Location: c:\\users\\zachl\\appdata\\local\\programs\\python\\python310\\lib\\site-packages\n",
      "Requires: av, beautifulsoup4, click, cloup, decorator, isosurfaces, manimpango, mapbox-earcut, moderngl, moderngl-window, networkx, numpy, Pillow, pycairo, pydub, Pygments, rich, scipy, screeninfo, skia-pathops, srt, svgelements, tqdm, typing-extensions, watchdog\n",
      "Required-by: \n"
     ]
    }
   ],
   "source": [
    "!pip show Manim"
   ]
  },
  {
   "cell_type": "code",
   "execution_count": 2,
   "metadata": {},
   "outputs": [],
   "source": [
    "from manim import *\n",
    "import numpy as np\n",
    "import scipy.stats as stats\n",
    "config.media_width = \"75%\"\n",
    "config.verbosity = \"WARNING\""
   ]
  },
  {
   "cell_type": "code",
   "execution_count": 3,
   "metadata": {},
   "outputs": [
    {
     "data": {
      "text/html": [
       "<pre style=\"white-space:pre;overflow-x:auto;line-height:normal;font-family:Menlo,'DejaVu Sans Mono',consolas,'Courier New',monospace\">Manim Community <span style=\"color: #008000; text-decoration-color: #008000\">v0.19.0</span>\n",
       "\n",
       "</pre>\n"
      ],
      "text/plain": [
       "Manim Community \u001b[32mv0.\u001b[0m\u001b[32m19.0\u001b[0m\n",
       "\n"
      ]
     },
     "metadata": {},
     "output_type": "display_data"
    },
    {
     "name": "stderr",
     "output_type": "stream",
     "text": [
      "                                                                                                \r"
     ]
    },
    {
     "data": {
      "text/html": [
       "<video src=\"media\\jupyter\\FitGaussian3D@2025-02-17@12-29-48.mp4\" controls autoplay loop style=\"max-width: 75%;\"  >\n",
       "      Your browser does not support the <code>video</code> element.\n",
       "    </video>"
      ],
      "text/plain": [
       "<IPython.core.display.Video object>"
      ]
     },
     "metadata": {},
     "output_type": "display_data"
    }
   ],
   "source": [
    "%%manim -qm -p FitGaussian3D\n",
    "\n",
    "class FitGaussian3D(ThreeDScene):\n",
    "    def construct(self):\n",
    "        # Step 1: Create 3D Axes\n",
    "        axes = ThreeDAxes(\n",
    "            x_range=[-3, 3, 1],\n",
    "            y_range=[-3, 3, 1],\n",
    "            z_range=[0, 0.25, 0.25],\n",
    "            axis_config={\"color\": BLUE}\n",
    "        )\n",
    "\n",
    "        # Step 2: Sample 2D Gaussian Data Points\n",
    "        mean = np.array([0, 0])  \n",
    "        cov = np.array([[0.25, 0], [0, 0.25]])  \n",
    "        samples = np.random.multivariate_normal(mean, cov, 100)\n",
    "\n",
    "        dots = VGroup(*[\n",
    "            Dot3D(axes.c2p(x, y, 0), color=RED, radius=0.05) for x, y in samples\n",
    "        ])\n",
    "\n",
    "        # Step 3: Create the 3D Gaussian Surface\n",
    "        def gaussian_surface(u, v):\n",
    "            pos = np.array([u, v])\n",
    "            pdf = stats.multivariate_normal(mean=mean, cov=cov).pdf(pos)\n",
    "            return [u, v, pdf * 3]  \n",
    "\n",
    "        gaussian = Surface(\n",
    "            lambda u, v: np.array(gaussian_surface(u, v)),\n",
    "            u_range=[-1.5, 1.5], v_range=[-1.5, 1.5],\n",
    "            resolution=(30, 30),\n",
    "            color=YELLOW,\n",
    "            fill_opacity=0.75\n",
    "        )\n",
    "\n",
    "        # 🔹 Step 4: Set Initial Camera Zoomed Out\n",
    "        self.set_camera_orientation(phi=0 * DEGREES, theta=-90 * DEGREES, gamma=0*DEGREES, zoom=0.6)\n",
    "\n",
    "        # Animations\n",
    "        self.play(Create(axes))\n",
    "        self.wait()\n",
    "        self.play(FadeIn(dots))\n",
    "        self.wait()\n",
    "\n",
    "        # # 🔹 Step 5: Rotate Camera as Gaussian is Drawn\n",
    "        self.begin_ambient_camera_rotation(rate=60/6 * DEGREES, about=\"phi\")\n",
    "        self.begin_ambient_camera_rotation(rate=45/6 * DEGREES, about=\"theta\")\n",
    "    \n",
    "        self.wait()\n",
    "        self.play(Create(gaussian), run_time=3)\n",
    "        self.move_camera(\n",
    "                zoom=1.0,  # Zoom in\n",
    "                run_time=2,  # Time for this animation\n",
    "            )\n",
    "        \n",
    "        self.stop_ambient_camera_rotation(about='phi')\n",
    "        self.stop_ambient_camera_rotation(about='theta')\n",
    "\n",
    "        self.wait()\n"
   ]
  },
  {
   "cell_type": "code",
   "execution_count": null,
   "metadata": {},
   "outputs": [
    {
     "data": {
      "text/html": [
       "<pre style=\"white-space:pre;overflow-x:auto;line-height:normal;font-family:Menlo,'DejaVu Sans Mono',consolas,'Courier New',monospace\">Manim Community <span style=\"color: #008000; text-decoration-color: #008000\">v0.19.0</span>\n",
       "\n",
       "</pre>\n"
      ],
      "text/plain": [
       "Manim Community \u001b[32mv0.\u001b[0m\u001b[32m19.0\u001b[0m\n",
       "\n"
      ]
     },
     "metadata": {},
     "output_type": "display_data"
    },
    {
     "name": "stderr",
     "output_type": "stream",
     "text": [
      "                                                                                              \r"
     ]
    },
    {
     "data": {
      "text/html": [
       "<video src=\"media\\jupyter\\MaximumLikelihoodDemo@2025-02-17@12-39-03.mp4\" controls autoplay loop style=\"max-width: 75%;\"  >\n",
       "      Your browser does not support the <code>video</code> element.\n",
       "    </video>"
      ],
      "text/plain": [
       "<IPython.core.display.Video object>"
      ]
     },
     "metadata": {},
     "output_type": "display_data"
    }
   ],
   "source": [
    "%%manim -qm MaximumLikelihoodDemo\n",
    "\n",
    "import numpy as np\n",
    "import scipy.stats as stats\n",
    "from manim import *\n",
    "\n",
    "class MaximumLikelihoodDemo(Scene):\n",
    "    def construct(self):\n",
    "        # Define the axes\n",
    "        axes = Axes(\n",
    "            x_range=[0, 10, 1],\n",
    "            y_range=[0, 1, 0.1],\n",
    "            tips=False,\n",
    "            axis_config={\"include_numbers\": True}\n",
    "        )\n",
    "\n",
    "        # Sample from a Gaussian\n",
    "        samples = np.random.normal(5, 1, 20)\n",
    "\n",
    "        # Perform MLE to estimate mean and std\n",
    "        mu, sigma = stats.norm.fit(samples)\n",
    "\n",
    "        # Generate x values for the estimated Gaussian\n",
    "        x_vals = np.linspace(0, 10, 100)\n",
    "        y_vals = stats.norm.pdf(x_vals, mu, sigma)  # Compute Gaussian PDF\n",
    "\n",
    "        # Normalize to fit within y-axis range\n",
    "        y_vals /= np.max(y_vals)  # Scale between 0 and 1\n",
    "\n",
    "        # Create the probability density function (PDF) curve\n",
    "        pdf_curve = axes.plot(lambda x: stats.norm.pdf(x, mu, sigma) / np.max(y_vals), color=BLUE)\n",
    "\n",
    "        # Create the sample dots\n",
    "        dots = VGroup(*[\n",
    "            Dot(axes.c2p(x, 0), color=RED, radius=0.05) for x in samples\n",
    "        ])\n",
    "\n",
    "        # Animate\n",
    "        self.play(Create(axes))\n",
    "        self.wait()\n",
    "        self.play(FadeIn(dots))\n",
    "        self.wait()\n",
    "        self.play(Create(pdf_curve))  # Animate the fitted Gaussian\n",
    "        self.wait()\n"
   ]
  }
 ],
 "metadata": {
  "kernelspec": {
   "display_name": "Python 3",
   "language": "python",
   "name": "python3"
  },
  "language_info": {
   "codemirror_mode": {
    "name": "ipython",
    "version": 3
   },
   "file_extension": ".py",
   "mimetype": "text/x-python",
   "name": "python",
   "nbconvert_exporter": "python",
   "pygments_lexer": "ipython3",
   "version": "3.10.11"
  }
 },
 "nbformat": 4,
 "nbformat_minor": 2
}
